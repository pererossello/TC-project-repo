{
 "cells": [
  {
   "cell_type": "markdown",
   "metadata": {},
   "source": [
    "### Power Spectra Noise Calculation\n",
    "\n",
    "Computes and analyzes CMB power spectra for signal and noise. \n",
    "\n",
    "- Reads pre-computed PySM sky maps (signal) and noise simulations.\n",
    "- Applies a Galactic mask and computes power spectra (TT, EE, BB, TE, TB, EB) using NaMaster.\n",
    "- Runs 100 simulations for \"signal + noise\" and \"noise-only\" cases.\n",
    "- Saves spectra for error estimation (noise and total errors).\n"
   ]
  },
  {
   "cell_type": "code",
   "execution_count": 2,
   "metadata": {},
   "outputs": [],
   "source": [
    "import numpy as np\n",
    "import matplotlib.pyplot as plt\n",
    "import healpy as hp\n",
    "import pymaster as nmt\n",
    "from tqdm import tqdm"
   ]
  },
  {
   "cell_type": "code",
   "execution_count": 7,
   "metadata": {},
   "outputs": [],
   "source": [
    "# Read pre-computed PYSM simulated sky map without noise\n",
    "pysm_sky_23 =  hp.read_map('../results/maps/total_23GHz_0512_fwhm_5280.fits', field=[0,1,2], dtype=np.float64)\n",
    "pysm_sky_23 *= 1e-3 # in mK\n",
    "\n",
    "# Read Mask\n",
    "mask = hp.read_map('../results/masks/mask_galcut10_apodC2_5.fits')\n",
    "\n",
    "# Define parameters\n",
    "n_sim = 100\n",
    "nside = 512\n",
    "npix = hp.nside2npix(nside)\n",
    "lmax = 2*nside\n",
    "dl = 10"
   ]
  },
  {
   "cell_type": "markdown",
   "metadata": {},
   "source": [
    "Compute Power Spectra, $C_{\\ell}$ for each noise simulation (100 of them). This last cell may take a few hours.  "
   ]
  },
  {
   "cell_type": "code",
   "execution_count": null,
   "metadata": {},
   "outputs": [],
   "source": [
    "import sys\n",
    "\n",
    "sys.path.append(\"../\")\n",
    "from main.utils import auto_spectrum\n",
    "\n",
    "\n",
    "for ii in tqdm(range(n_sim), desc=\"Computing power spectra: \"):\n",
    "    noise_23 = hp.read_map(\n",
    "        \"../results/noise_simulations/wmap_k_noise_\" + str(ii + 1).zfill(4) + \".fits\",\n",
    "        field=[0, 1, 2],\n",
    "    )\n",
    "\n",
    "    sky_noise_23 = pysm_sky_23 + noise_23\n",
    "\n",
    "    cl_sky_23_10 = auto_spectrum(\n",
    "        mask,\n",
    "        sky_noise_23,\n",
    "        lmax=lmax,\n",
    "        dl=dl,\n",
    "        nside=nside,\n",
    "        purify_e=True,\n",
    "        purify_b=True,\n",
    "        beam=None,\n",
    "    )\n",
    "    cl_noise_23_10 = auto_spectrum(\n",
    "        mask,\n",
    "        noise_23,\n",
    "        lmax=lmax,\n",
    "        dl=dl,\n",
    "        nside=nside,\n",
    "        purify_e=True,\n",
    "        purify_b=True,\n",
    "        beam=None,\n",
    "    )\n",
    "\n",
    "    names_auto = [\"ell\", \"TT\", \"EE\", \"BB\", \"TE\", \"TB\", \"EB\"]\n",
    "    names_cross = [\"ell\", \"T1T2\", \"E1E2\", \"B1B2\", \"E1B2\", \"E2B1\", \"null\"]\n",
    "\n",
    "    # Power Spectra of Noise\n",
    "    with open(\n",
    "        \"../results/errorbars/cl_sky_noise/cl_sky_noise_\"\n",
    "        + str(ii + 1).zfill(4)\n",
    "        + \"_23ghz_galcut10.txt\",\n",
    "        \"w\",\n",
    "    ) as f:\n",
    "        f.write(\"\\t\".join(names_auto) + \"\\n\")\n",
    "        np.savetxt(f, cl_sky_23_10, fmt=\"%.12e\", delimiter=\"\\t\")\n",
    "\n",
    "    # Power Spectra of WMAP SIM + Noise.\n",
    "    with open(\n",
    "        \"../results/errorbars/cl_noise/cl_noise_\"\n",
    "        + str(ii + 1).zfill(4)\n",
    "        + \"_23ghz_galcut10.txt\",\n",
    "        \"w\",\n",
    "    ) as f:\n",
    "        f.write(\"\\t\".join(names_auto) + \"\\n\")\n",
    "        np.savetxt(f, cl_noise_23_10, fmt=\"%.12e\", delimiter=\"\\t\")"
   ]
  },
  {
   "cell_type": "markdown",
   "metadata": {},
   "source": [
    "plot the resulting power spectra (TT)"
   ]
  },
  {
   "cell_type": "code",
   "execution_count": 25,
   "metadata": {},
   "outputs": [
    {
     "data": {
      "image/png": "[encoded data removed]",
      "text/plain": [
       "<Figure size 800x200 with 2 Axes>"
      ]
     },
     "metadata": {},
     "output_type": "display_data"
    }
   ],
   "source": [
    "fig, axs = plt.subplots(1, 2, figsize=(8, 2))\n",
    "\n",
    "for ii in range(n_sim):\n",
    "    cl_sky = np.loadtxt('../results/errorbars/cl_sky_noise/cl_sky_noise_' +str(ii+1).zfill(4) + '_23ghz_galcut10.txt',  skiprows=1)\n",
    "    cl_noise= np.loadtxt('../results/errorbars/cl_noise/cl_noise_' +str(ii+1).zfill(4) + '_23ghz_galcut10.txt',  skiprows=1)\n",
    "\n",
    "    axs[0].plot(cl_sky[0,:], cl_sky[1,:], c='k', alpha=0.011)\n",
    "    axs[1].plot(cl_noise[0,:], cl_noise[1,:], c='r', alpha=0.011)\n",
    "\n",
    "axs[0].set_title('Sky')\n",
    "axs[1].set_title('Noise')\n",
    "\n",
    "for ax in axs:\n",
    "    ax.set_xscale('log')\n",
    "    ax.set_yscale('log')"
   ]
  }
 ],
 "metadata": {
  "kernelspec": {
   "display_name": "namaster_env",
   "language": "python",
   "name": "python3"
  },
  "language_info": {
   "codemirror_mode": {
    "name": "ipython",
    "version": 3
   },
   "file_extension": ".py",
   "mimetype": "text/x-python",
   "name": "python",
   "nbconvert_exporter": "python",
   "pygments_lexer": "ipython3",
   "version": "3.9.21"
  }
 },
 "nbformat": 4,
 "nbformat_minor": 2
}
