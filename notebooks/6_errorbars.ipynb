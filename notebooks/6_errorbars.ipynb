{
 "cells": [
  {
   "cell_type": "markdown",
   "metadata": {},
   "source": [
    "### 6. Errorbars\n",
    "\n",
    "We compute the mean noise and error bars "
   ]
  },
  {
   "cell_type": "code",
   "execution_count": 12,
   "metadata": {},
   "outputs": [],
   "source": [
    "import numpy as np\n",
    "\n",
    "# Read Beam Transfer Function\n",
    "beam_wmap_k = np.loadtxt('../results/window/beam_wmap_k.txt')[1]\n",
    "\n",
    "# Read Window Function\n",
    "window_pixel = np.loadtxt('../results/window/window_pixel_0512.txt')[1]\n",
    "\n",
    "\n",
    "n_sim = 100\n",
    "\n",
    "cl_sky_23_10 = np.zeros([n_sim, 7, 102])\n",
    "cl_noise_23_10 = np.zeros([n_sim, 7, 102])\n",
    "\n",
    "# read the simulated power spectra with noise\n",
    "for ii in range(n_sim):\n",
    "    cl_sky_23_10[ii, ...] = np.loadtxt('../results/errorbars/cl_sky_noise/cl_sky_noise_' +str(ii+1).zfill(4) + '_23ghz_galcut10.txt',  skiprows=1)\n",
    "    cl_noise_23_10[ii, ...] = np.loadtxt('../results/errorbars/cl_noise/cl_noise_' +str(ii+1).zfill(4) + '_23ghz_galcut10.txt',  skiprows=1)\n",
    "\n",
    "\n",
    "ell = cl_sky_23_10[0,0]\n",
    "\n",
    "# Compute STD\n",
    "std_sky_23_10 = np.std(cl_sky_23_10, axis=0) \n",
    "std_noise_23_10 = np.std(cl_noise_23_10, axis=0) \n",
    "\n",
    "mean_23_10 = np.mean(cl_noise_23_10, axis=0)\n",
    "\n",
    "# Error bar is quadratic sum of all components corrected by window functions\n",
    "err_23_10 = np.sqrt(std_sky_23_10**2 + std_noise_23_10**2) / ( beam_wmap_k**2 * window_pixel**2 )\n",
    "\n",
    "names_auto = ['ell', 'TT', 'EE', 'BB', 'TE', 'TB', 'EB']\n",
    "\n",
    "# Save the mean (N_l)\n",
    "with open('../results/spectra/mean_noise_23ghz_galcut10.txt', 'w') as f:\n",
    "    f.write('\\t'.join(names_auto) + '\\n')\n",
    "    np.savetxt(f, mean_23_10, fmt='%.12e', delimiter='\\t')\n",
    "\n",
    "# Save eror bars barras de error (symmetric)\n",
    "with open('../results/errorbars/errorbar_23ghz_galcut10.txt', 'w') as f:\n",
    "    f.write('\\t'.join(names_auto) + '\\n')\n",
    "    np.savetxt(f, err_23_10, fmt='%.12e', delimiter='\\t')"
   ]
  }
 ],
 "metadata": {
  "kernelspec": {
   "display_name": "namaster_env",
   "language": "python",
   "name": "python3"
  },
  "language_info": {
   "codemirror_mode": {
    "name": "ipython",
    "version": 3
   },
   "file_extension": ".py",
   "mimetype": "text/x-python",
   "name": "python",
   "nbconvert_exporter": "python",
   "pygments_lexer": "ipython3",
   "version": "3.9.21"
  }
 },
 "nbformat": 4,
 "nbformat_minor": 2
}
