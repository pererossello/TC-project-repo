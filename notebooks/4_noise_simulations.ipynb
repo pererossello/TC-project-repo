{
 "cells": [
  {
   "cell_type": "markdown",
   "metadata": {},
   "source": [
    "### 4. Noise Simulations\n",
    "\n",
    "Now that we have simulated the clean sky signal (previous notebook) we need to create a noise signal as well. Simulated Signal + Simulated Noise should be a realistic model of what the instrument really sees.\n",
    "\n",
    "The WMAP noise is specially simple: it's basically white noise, i.e., realizations from a standard gaussian distribution. \n",
    "\n",
    "The amplitude of the noise (the standard deviation of the gaussian) is proportional to $1/\\sqrt{n}$, being $n$ the number of effective measurements on each sky region (pixel). So we need to load WMAP data to simulate the noise.\n",
    "\n",
    "We make 100 noise realizations"
   ]
  },
  {
   "cell_type": "code",
   "execution_count": null,
   "metadata": {},
   "outputs": [],
   "source": [
    "import numpy as np\n",
    "import healpy as hp\n",
    "from tqdm import tqdm  # package for progress bars in loops"
   ]
  },
  {
   "cell_type": "code",
   "execution_count": null,
   "metadata": {},
   "outputs": [],
   "source": [
    "datapath = '../data/maps/wmap_iqumap_r9_9yr_K1_v5.fits'\n",
    "\n",
    "wmap_k, wmap_header= hp.read_map(datapath, field=[0,1,2,3], h=True)\n",
    "wmap_k_ii, wmap_header_ii = hp.read_map(datapath, hdu=2, field=[0,1,2,3], h=True)\n",
    "\n",
    "nside = 512\n",
    "npix = hp.nside2npix(nside) \n",
    "\n",
    "sigma0i_wmap , sigma0qu_wmap= 1.429, 1.435 # in mK\n",
    "\n",
    "# Number of observations for intensity and polarization \n",
    "nobs_i =  wmap_k[3]\n",
    "nobs_q = wmap_k_ii[1]\n",
    "nobs_u = wmap_k_ii[3]\n",
    "nobs_qu = wmap_k_ii[2]\n",
    "\n",
    "\n",
    "# We have to take into account the mixing between the $Q$ and $U$ modes to get an effective count for $Q$ and $U$. \n",
    "neff_q = nobs_q - nobs_qu**2/nobs_u\n",
    "neff_u = nobs_u - nobs_qu**2/nobs_q\n",
    "\n",
    "sigma_i = sigma0i_wmap / np.sqrt(nobs_i)\n",
    "sigma_q = sigma0qu_wmap / np.sqrt(neff_q)\n",
    "sigma_u = sigma0qu_wmap / np.sqrt(neff_u)\n",
    "\n",
    "noise_map = np.zeros([3,npix])"
   ]
  },
  {
   "cell_type": "markdown",
   "metadata": {},
   "source": [
    "Make the noise realizations"
   ]
  },
  {
   "cell_type": "code",
   "execution_count": 6,
   "metadata": {},
   "outputs": [
    {
     "name": "stderr",
     "output_type": "stream",
     "text": [
      "generating maps: 100%|██████████| 100/100 [00:44<00:00,  2.23it/s]\n"
     ]
    }
   ],
   "source": [
    "for ii in tqdm(range(100), desc='generating maps'): \n",
    "    noise_map[0] = np.random.normal(0, sigma_i, npix)\n",
    "    noise_map[1] = np.random.normal(0, sigma_q, npix)\n",
    "    noise_map[2] = np.random.normal(0, sigma_u, npix)\n",
    "\n",
    "    hp.write_map('../results/noise_simulations/wmap_k_noise_' + str(ii+1).zfill(4) + '.fits', noise_map, dtype=np.float64, overwrite = True)"
   ]
  }
 ],
 "metadata": {
  "kernelspec": {
   "display_name": "cmb_env",
   "language": "python",
   "name": "python3"
  },
  "language_info": {
   "codemirror_mode": {
    "name": "ipython",
    "version": 3
   },
   "file_extension": ".py",
   "mimetype": "text/x-python",
   "name": "python",
   "nbconvert_exporter": "python",
   "pygments_lexer": "ipython3",
   "version": "3.12.7"
  }
 },
 "nbformat": 4,
 "nbformat_minor": 2
}
