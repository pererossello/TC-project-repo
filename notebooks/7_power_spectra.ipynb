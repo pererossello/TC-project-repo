{
 "cells": [
  {
   "cell_type": "markdown",
   "metadata": {},
   "source": [
    "### 7. Power Spectra Calculation\n",
    "\n",
    "Here we compute the noise-corrected power spectra of WMAP, as given by  \n",
    "\n",
    "$$\n",
    "C_{\\ell} = \\frac{C_{\\ell}^{\\text{sky}}-N_\\ell}{|w_{\\ell m}|^2 B_\\ell^2}\n",
    "$$"
   ]
  },
  {
   "cell_type": "code",
   "execution_count": 11,
   "metadata": {},
   "outputs": [],
   "source": [
    "import numpy as np\n",
    "import matplotlib.pyplot as plt\n",
    "import healpy as hp\n",
    "import pymaster as nmt\n",
    "from tqdm import tqdm"
   ]
  },
  {
   "cell_type": "markdown",
   "metadata": {},
   "source": [
    "Read all the data"
   ]
  },
  {
   "cell_type": "code",
   "execution_count": 7,
   "metadata": {},
   "outputs": [],
   "source": [
    "# READ DATA\n",
    "\n",
    "# Full-mission maps\n",
    "map_23 = hp.read_map('../data/maps/wmap_iqumap_r9_9yr_K1_v5.fits', field=[0,1,2])\n",
    "\n",
    "# Noise for WMAP\n",
    "noise_23_10 = np.loadtxt('../results/spectra/mean_noise_23ghz_galcut10.txt', skiprows=1)\n",
    "\n",
    "# Mask\n",
    "mask_galcut10 = hp.read_map('../results/masks/mask_galcut10_apodC2_5.fits')\n",
    "\n",
    "# BTF and Window function\n",
    "beam_wmap_k = np.loadtxt('../results/window/beam_wmap_k.txt')[1]\n",
    "window_pixel = np.loadtxt('../results/window/window_pixel_0512.txt')[1]\n",
    "\n",
    "# USEFUL PARAMS\n",
    "nside = 512\n",
    "npix = hp.nside2npix(nside)\n",
    "lmax = 2*nside\n",
    "dl = 10"
   ]
  },
  {
   "cell_type": "markdown",
   "metadata": {},
   "source": [
    "Compute the Power Spectra"
   ]
  },
  {
   "cell_type": "code",
   "execution_count": null,
   "metadata": {},
   "outputs": [],
   "source": [
    "import sys\n",
    "\n",
    "sys.path.append(\"../\")\n",
    "from utils import auto_spectrum\n",
    "\n",
    "cl_23_10 = auto_spectrum(mask_galcut10, map_23, lmax=lmax, dl=dl, nside=nside, purify_e=True, purify_b=True, beam=None)"
   ]
  },
  {
   "cell_type": "markdown",
   "metadata": {},
   "source": [
    "Save data"
   ]
  },
  {
   "cell_type": "code",
   "execution_count": 10,
   "metadata": {},
   "outputs": [],
   "source": [
    "ell = cl_23_10[0]\n",
    "\n",
    "corr_23_10 = np.abs(cl_23_10 - noise_23_10) / (beam_wmap_k**2 * window_pixel**2)\n",
    "corr_23_10[0] = ell\n",
    "\n",
    "names_auto = ['ell', 'TT', 'EE', 'BB', 'TE', 'TB', 'EB']\n",
    "\n",
    "# te lo guardas\n",
    "with open('../results/spectra/cl_23ghz_galcut10.txt', 'w') as f:\n",
    "    f.write('\\t'.join(names_auto) + '\\n')\n",
    "    np.savetxt(f, corr_23_10, fmt='%.12e', delimiter='\\t')"
   ]
  },
  {
   "cell_type": "markdown",
   "metadata": {},
   "source": [
    "Plot data"
   ]
  },
  {
   "cell_type": "code",
   "execution_count": 29,
   "metadata": {},
   "outputs": [
    {
     "data": {
      "image/png": "[encoded data removed]",
      "text/plain": [
       "<Figure size 400x200 with 1 Axes>"
      ]
     },
     "metadata": {},
     "output_type": "display_data"
    }
   ],
   "source": [
    "fig, ax = plt.subplots(1, 1, figsize=(4, 2))\n",
    "\n",
    "ax.plot(corr_23_10[0, :], corr_23_10[2,:], c='k', alpha=1)\n",
    "\n",
    "ax.set_title('Power Spectra')\n",
    "ax.set_xscale('log')\n",
    "ax.set_yscale('log')"
   ]
  }
 ],
 "metadata": {
  "kernelspec": {
   "display_name": "namaster_env",
   "language": "python",
   "name": "python3"
  },
  "language_info": {
   "codemirror_mode": {
    "name": "ipython",
    "version": 3
   },
   "file_extension": ".py",
   "mimetype": "text/x-python",
   "name": "python",
   "nbconvert_exporter": "python",
   "pygments_lexer": "ipython3",
   "version": "3.9.21"
  }
 },
 "nbformat": 4,
 "nbformat_minor": 2
}
